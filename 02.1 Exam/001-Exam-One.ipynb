{
 "cells": [
  {
   "cell_type": "markdown",
   "metadata": {},
   "source": [
    "# 001-Exam-one \n",
    "\n",
    "Hello Highlanders. Here you can the 001-Exam-one. This is not a graded exam, but try to do all the challenges.\n",
    "Good luck !!\n",
    "_______"
   ]
  },
  {
   "cell_type": "markdown",
   "metadata": {},
   "source": [
    "## Name: <font color='green'>____put your name here____</font> \n"
   ]
  },
  {
   "cell_type": "markdown",
   "metadata": {},
   "source": [
    "### <font color='green'>Task 1:</font> \n",
    "\n",
    "Open the   **exam.txt**   file with Python and with only read permission and store the contents in a list called **lines**.<br>\n",
    "Print the **lines** list\n",
    "\n",
    "Tip: \n",
    "1. Use the with open sentence, like this:\n",
    "\n",
    "```python\n",
    "    with open('.....') as f:\n",
    "        lines = f.readlines()\n",
    "```\n",
    "2. Print using the **print()** function"
   ]
  },
  {
   "cell_type": "code",
   "execution_count": 1,
   "metadata": {},
   "outputs": [],
   "source": [
    "# Your code here ...\n"
   ]
  },
  {
   "cell_type": "code",
   "execution_count": 9,
   "metadata": {},
   "outputs": [
    {
     "name": "stdout",
     "output_type": "stream",
     "text": [
      "['Welcome to your First Exam Highlander.\\n', 'If you work hard in class and at home you will be able to complete it.\\n', 'Did you complete all the notebooks?\\n', 'Did you ask for help when you had a doubt?\\n', 'If you practiced, it should be pretty simple.\\n', \"Let's get started.\\n\", 'Best of luck Highlander.']\n"
     ]
    }
   ],
   "source": [
    "# Your output should look something like this:"
   ]
  },
  {
   "cell_type": "markdown",
   "metadata": {},
   "source": [
    "### <font color='green'>Task 2:</font> \n",
    "\n",
    "Verify that **exam_lines** is a list.\n",
    "\n",
    "Tip:\n",
    "1. Use the **type()** function."
   ]
  },
  {
   "cell_type": "code",
   "execution_count": 1,
   "metadata": {},
   "outputs": [],
   "source": [
    "# Your code here ...\n"
   ]
  },
  {
   "cell_type": "code",
   "execution_count": 6,
   "metadata": {},
   "outputs": [
    {
     "data": {
      "text/plain": [
       "list"
      ]
     },
     "execution_count": 6,
     "metadata": {},
     "output_type": "execute_result"
    }
   ],
   "source": [
    "# Your output should look something like this:"
   ]
  },
  {
   "cell_type": "markdown",
   "metadata": {},
   "source": [
    "### <font color='green'>Task 3:</font> \n",
    "\n",
    "How many lines does this file have?\n",
    "\n",
    "Tip:\n",
    "1. Use the **len()** function."
   ]
  },
  {
   "cell_type": "code",
   "execution_count": 2,
   "metadata": {},
   "outputs": [],
   "source": [
    "# Your code here ...\n"
   ]
  },
  {
   "cell_type": "code",
   "execution_count": 9,
   "metadata": {},
   "outputs": [
    {
     "data": {
      "text/plain": [
       "7"
      ]
     },
     "execution_count": 9,
     "metadata": {},
     "output_type": "execute_result"
    }
   ],
   "source": [
    "# Your output should look something like this:"
   ]
  },
  {
   "cell_type": "markdown",
   "metadata": {},
   "source": [
    "### <font color='green'>Task 4:</font> \n",
    "\n",
    "Print out the 5th line of the text file.\n",
    "\n",
    "Tip:\n",
    "1. Use the **print()** function.\n",
    "2. Make an indexing of the list using square brakets [ ], like this:\n",
    "```python\n",
    "    name_of_the_list[number]\n",
    "```"
   ]
  },
  {
   "cell_type": "code",
   "execution_count": 3,
   "metadata": {},
   "outputs": [],
   "source": [
    "# Your code here ...\n"
   ]
  },
  {
   "cell_type": "code",
   "execution_count": 9,
   "metadata": {},
   "outputs": [
    {
     "name": "stdout",
     "output_type": "stream",
     "text": [
      "If you practiced, it should be pretty simple.\n",
      "\n"
     ]
    }
   ],
   "source": [
    "# Your output should look something like this:"
   ]
  },
  {
   "cell_type": "markdown",
   "metadata": {},
   "source": [
    "### <font color='green'>Task 5:</font> \n",
    "\n",
    "Grab the last line of the text file and save it to a variable called **last_line**.\n",
    "\n",
    "Tip:\n",
    "1. You can index the last element of a list using the index **-1**, like this:\n",
    "```python\n",
    "    name_of_the_list[-1]\n",
    "```"
   ]
  },
  {
   "cell_type": "code",
   "execution_count": 4,
   "metadata": {},
   "outputs": [],
   "source": [
    "# Your code here ...\n"
   ]
  },
  {
   "cell_type": "code",
   "execution_count": 10,
   "metadata": {},
   "outputs": [
    {
     "data": {
      "text/plain": [
       "'Best of luck Highlander.'"
      ]
     },
     "execution_count": 10,
     "metadata": {},
     "output_type": "execute_result"
    }
   ],
   "source": [
    "# Your output should look something like this:"
   ]
  },
  {
   "cell_type": "markdown",
   "metadata": {},
   "source": [
    "### <font color='green'>Task 6:</font> \n",
    "\n",
    "Use indexing to grab the letter 'o' from the last line of the file.\n",
    "\n",
    "Tip:\n",
    "1. Use the variable **last_line**.\n",
    "2. Use indexing with square brakets [ ] to indexing"
   ]
  },
  {
   "cell_type": "code",
   "execution_count": 5,
   "metadata": {},
   "outputs": [],
   "source": [
    "# Your code here ...\n"
   ]
  },
  {
   "cell_type": "code",
   "execution_count": 45,
   "metadata": {},
   "outputs": [
    {
     "data": {
      "text/plain": [
       "'o'"
      ]
     },
     "execution_count": 45,
     "metadata": {},
     "output_type": "execute_result"
    }
   ],
   "source": [
    "# Your output should look something like this:"
   ]
  },
  {
   "cell_type": "markdown",
   "metadata": {},
   "source": [
    "### <font color='green'>Task 7:</font> \n",
    "\n",
    "\n",
    "How could you use Python to count how many words there are in the **last_line**?\n",
    "\n",
    "Tip:\n",
    "\n",
    "1. Review the **split()** method in **04-Python-Strings** notebook "
   ]
  },
  {
   "cell_type": "code",
   "execution_count": 6,
   "metadata": {},
   "outputs": [],
   "source": [
    "# Your code here ...\n"
   ]
  },
  {
   "cell_type": "code",
   "execution_count": 48,
   "metadata": {},
   "outputs": [
    {
     "data": {
      "text/plain": [
       "4"
      ]
     },
     "execution_count": 48,
     "metadata": {},
     "output_type": "execute_result"
    }
   ],
   "source": [
    "# Your output should look something like this:"
   ]
  },
  {
   "cell_type": "markdown",
   "metadata": {},
   "source": [
    "### <font color='green'>Task 8:</font> \n",
    "\n",
    "\n",
    "What data types are returned by the following lines of code:\n",
    "\n",
    "    1.)  2/3\n",
    "    2.)  2 + 2.0\n",
    "    3.)  1 + 1\n",
    "    4.)  \"2\" + \"2\"\n",
    "    5.)  1 > 2\n",
    "    \n",
    "Tip:\n",
    "1. Try to do these in your head before checking by running the code in Python.\n",
    "2. Use the type() function"
   ]
  },
  {
   "cell_type": "code",
   "execution_count": 7,
   "metadata": {},
   "outputs": [],
   "source": [
    "# Your code here ...\n"
   ]
  },
  {
   "cell_type": "code",
   "execution_count": null,
   "metadata": {},
   "outputs": [],
   "source": []
  },
  {
   "cell_type": "code",
   "execution_count": null,
   "metadata": {},
   "outputs": [],
   "source": []
  },
  {
   "cell_type": "code",
   "execution_count": null,
   "metadata": {},
   "outputs": [],
   "source": []
  },
  {
   "cell_type": "code",
   "execution_count": null,
   "metadata": {},
   "outputs": [],
   "source": []
  },
  {
   "cell_type": "markdown",
   "metadata": {},
   "source": [
    "### <font color='green'>Task 9: Super challenging</font> \n",
    "\n",
    "\n",
    "How well do you understand indexing (in lists) and key calls (in dictionaries)? \n",
    "\n",
    "Here we present to you a set of dictionaries and lists that are nested (included) inside a single dictionary **dict**:"
   ]
  },
  {
   "cell_type": "code",
   "execution_count": 22,
   "metadata": {},
   "outputs": [],
   "source": [
    "d = {\"nivel 1\":[1,2,{'nivel 2':[5,6,[1,['sácame de aquí por favor !!!']]]}]}"
   ]
  },
  {
   "cell_type": "markdown",
   "metadata": {},
   "source": [
    "Your task is to retrieve the string **\"sácame de aquí por favor !!!\"** from the dictionary with stacked index and key calls.\n",
    "\n",
    "Tip:\n",
    "1. Approach this step by step, slowly adding on more and more index calls. \n",
    "2. Extract values from the dictionary using **[name_of_key]**\n",
    "3. Extrat elements from the list using indexin with **[number]**\n",
    "4. Use as meny cell as you need"
   ]
  },
  {
   "cell_type": "code",
   "execution_count": 8,
   "metadata": {},
   "outputs": [],
   "source": [
    "# Your code here ...\n"
   ]
  },
  {
   "cell_type": "code",
   "execution_count": 30,
   "metadata": {},
   "outputs": [
    {
     "data": {
      "text/plain": [
       "'sácame de aquí por favor !!!'"
      ]
     },
     "execution_count": 30,
     "metadata": {},
     "output_type": "execute_result"
    }
   ],
   "source": [
    "# Your output should look something like this:"
   ]
  },
  {
   "cell_type": "markdown",
   "metadata": {},
   "source": [
    "### <font color='green'>Task 10: Challenging</font> \n",
    "\n",
    "How many unique integers are in this list? (You will need to use a casting method we haven't shown you yet)\n",
    "\n",
    "Tip:\n",
    "1. Use the **set()** function showed in **08-Sets**.\n",
    "2. When you apply the **set()** function to a list you eliminate the repeated elements."
   ]
  },
  {
   "cell_type": "code",
   "execution_count": 32,
   "metadata": {},
   "outputs": [],
   "source": [
    "# Run this cell\n",
    "\n",
    "mylist = [1,2,3,4,5,6,4,3,2,1,2,3,4,5,6,6,7,8,5,6,7,8,9,8,9,8,9,7,10,123,1,2,2,3,1,3,2,4,1,4,4,1,2,2,22,3,4,1,4,1]"
   ]
  },
  {
   "cell_type": "code",
   "execution_count": 9,
   "metadata": {},
   "outputs": [],
   "source": [
    "# Your code here ...\n"
   ]
  },
  {
   "cell_type": "code",
   "execution_count": 43,
   "metadata": {},
   "outputs": [
    {
     "data": {
      "text/plain": [
       "12"
      ]
     },
     "execution_count": 43,
     "metadata": {},
     "output_type": "execute_result"
    }
   ],
   "source": [
    "# Your output should look something like this:"
   ]
  },
  {
   "cell_type": "markdown",
   "metadata": {},
   "source": [
    "Excellent work Highlanders !!!"
   ]
  }
 ],
 "metadata": {
  "kernelspec": {
   "display_name": "Python 3",
   "language": "python",
   "name": "python3"
  },
  "language_info": {
   "codemirror_mode": {
    "name": "ipython",
    "version": 3
   },
   "file_extension": ".py",
   "mimetype": "text/x-python",
   "name": "python",
   "nbconvert_exporter": "python",
   "pygments_lexer": "ipython3",
   "version": "3.6.4"
  }
 },
 "nbformat": 4,
 "nbformat_minor": 2
}
