{
 "cells": [
  {
   "cell_type": "markdown",
   "metadata": {
    "collapsed": true
   },
   "source": [
    "# 15-List Comprehensions\n",
    "\n",
    "Hello Highlanders!!\n",
    "Wellcome back.\n",
    "In addition to sequence operations and list methods, Python includes a more advanced operation called a list comprehension. They are elegant and very pythonist!!\n",
    "\n",
    "List comprehensions allow us to build out lists using a different notation. You can think of it as essentially a one line for loop built inside of brackets."
   ]
  },
  {
   "cell_type": "markdown",
   "metadata": {},
   "source": [
    "## Simple list comprehension\n",
    "\n",
    "If you find yourself using a for loop to only .append() to a list, you might want to consider a list comprehension, for example"
   ]
  },
  {
   "cell_type": "code",
   "execution_count": null,
   "metadata": {},
   "outputs": [],
   "source": [
    "mylist = []\n",
    "# Remember that the variable in for loop could be named as any variable. In this case let's name it \"letter\"\n",
    "for letter in 'this is a single string':\n",
    "    mylist.append(letter)"
   ]
  },
  {
   "cell_type": "code",
   "execution_count": null,
   "metadata": {},
   "outputs": [],
   "source": [
    "print(mylist)"
   ]
  },
  {
   "cell_type": "code",
   "execution_count": null,
   "metadata": {},
   "outputs": [],
   "source": [
    "len(mylist)"
   ]
  },
  {
   "cell_type": "markdown",
   "metadata": {},
   "source": [
    "### The same using a list comprehension"
   ]
  },
  {
   "cell_type": "code",
   "execution_count": null,
   "metadata": {},
   "outputs": [],
   "source": [
    "# Grab every letter in string\n",
    "myletters = [letter for letter in 'this is a single string']"
   ]
  },
  {
   "cell_type": "code",
   "execution_count": null,
   "metadata": {},
   "outputs": [],
   "source": [
    "print(myletters)"
   ]
  },
  {
   "cell_type": "code",
   "execution_count": null,
   "metadata": {},
   "outputs": [],
   "source": [
    "# Both list are equals\n",
    "mylist == myletters"
   ]
  },
  {
   "cell_type": "markdown",
   "metadata": {},
   "source": [
    "Let's go through some more complex examples"
   ]
  },
  {
   "cell_type": "code",
   "execution_count": null,
   "metadata": {},
   "outputs": [],
   "source": [
    "squares = [x**2 for x in range(0,11)]"
   ]
  },
  {
   "cell_type": "code",
   "execution_count": null,
   "metadata": {},
   "outputs": [],
   "source": [
    "squares"
   ]
  },
  {
   "cell_type": "markdown",
   "metadata": {},
   "source": [
    "### <font color='green'>Task 1:</font> \n",
    "### Double the value using list comprehension\n",
    "\n",
    "Assignment: \n",
    "    \n",
    "Create a range of number from 0 to 10\n",
    "Double it (x 2) using list comprehension\n",
    "\n",
    "Tip:\n",
    "1. Remenmer that range creates integers until the stop number minus one.\n",
    "\n",
    "Steps:\n",
    "1. Create the list comprehension assigning toa variable called \"double\"\n",
    "2. Print the list \"double\""
   ]
  },
  {
   "cell_type": "code",
   "execution_count": null,
   "metadata": {},
   "outputs": [],
   "source": [
    "# Your code here ...\n"
   ]
  },
  {
   "cell_type": "markdown",
   "metadata": {},
   "source": [
    "We can also use if statements in a list comprehension"
   ]
  },
  {
   "cell_type": "code",
   "execution_count": null,
   "metadata": {},
   "outputs": [],
   "source": [
    "evens = [x for x in range(0,10) if x%2 == 0]"
   ]
  },
  {
   "cell_type": "code",
   "execution_count": null,
   "metadata": {},
   "outputs": [],
   "source": [
    "evens"
   ]
  },
  {
   "cell_type": "markdown",
   "metadata": {},
   "source": [
    "### <font color='green'>Task 2:</font> \n",
    "### Create a list of odd numbers using list comprehension\n",
    "\n",
    "Assignment: \n",
    "    \n",
    "Create a range of number from 0 to 11\n",
    "Create a list called \"odds\" using an if statement in a list comprehension\n",
    "\n",
    "Tips:\n",
    "Remember that != means inequality (not equal to)\n",
    "Steps:\n",
    "1. Create the list comprehension assigning toa variable called \"odds\"\n",
    "2. Print the list \"double\""
   ]
  },
  {
   "cell_type": "code",
   "execution_count": null,
   "metadata": {},
   "outputs": [],
   "source": [
    "# Your code here ...\n"
   ]
  },
  {
   "cell_type": "markdown",
   "metadata": {},
   "source": [
    "You can also do an if/else statement in a list comprehension, but keep in mind, at a certain point you will sacarafice readability, which is a big part of Python. If you are having trouble figuring out how to put something in a list comprehension, just use a for loop instead, its almost always just as efficient.\n",
    "\n",
    "Keep in mind the ordering gets changed when adding the if/else statement. In general, such complicated list comprehensions are probably best avoided to maintain readability!"
   ]
  },
  {
   "cell_type": "code",
   "execution_count": null,
   "metadata": {},
   "outputs": [],
   "source": [
    "mylist = [x if x % 2 == 0 else 'not even' for x in range(0,10) ]"
   ]
  },
  {
   "cell_type": "code",
   "execution_count": null,
   "metadata": {},
   "outputs": [],
   "source": [
    "mylist"
   ]
  },
  {
   "cell_type": "markdown",
   "metadata": {},
   "source": [
    "### <font color='green'>Task 3: Challenging</font> \n",
    "### Create a list of odd numbers using list comprehension\n",
    "\n",
    "Assignment: \n",
    "    \n",
    "Write a program using list comprehension that prints the numbers from 1 to 21. But for multiples of three print \"Fizz\" instead fo\n",
    "the number. Your output should be like this:\n",
    "\n",
    "```Python\n",
    "['Fizz', 1, 2, 'Fizz', 4, 5, 'Fizz', 7, 8, 'Fizz', 10, 11, 'Fizz', 13, 14, 'Fizz', 16, 17, 'Fizz', 19, 20, 'Fizz']\n",
    "```\n",
    "\n",
    "Tips:\n",
    "Use the above example\n",
    "```Python\n",
    "mylist = [x if x % 2 == 0 else 'not even' for x in range(0,10) ]\n",
    "```\n",
    "Remember that != means inequality (not equal to)\n",
    "\n",
    "Steps:\n",
    "1. Create the list comprehension assigning toa variable called \"fizz\"\n",
    "2. Print the list \"fizz\""
   ]
  },
  {
   "cell_type": "code",
   "execution_count": null,
   "metadata": {},
   "outputs": [],
   "source": [
    "# Your code here ...\n"
   ]
  },
  {
   "cell_type": "markdown",
   "metadata": {},
   "source": [
    "Good luck !!!"
   ]
  }
 ],
 "metadata": {
  "kernelspec": {
   "display_name": "Python 3",
   "language": "python",
   "name": "python3"
  },
  "language_info": {
   "codemirror_mode": {
    "name": "ipython",
    "version": 3
   },
   "file_extension": ".py",
   "mimetype": "text/x-python",
   "name": "python",
   "nbconvert_exporter": "python",
   "pygments_lexer": "ipython3",
   "version": "3.6.4"
  }
 },
 "nbformat": 4,
 "nbformat_minor": 2
}
