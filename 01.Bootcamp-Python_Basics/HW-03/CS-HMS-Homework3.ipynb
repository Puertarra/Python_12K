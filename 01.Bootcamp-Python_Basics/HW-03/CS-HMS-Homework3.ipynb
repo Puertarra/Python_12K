{
 "cells": [
  {
   "cell_type": "markdown",
   "metadata": {},
   "source": [
    "# Homework #3"
   ]
  },
  {
   "cell_type": "markdown",
   "metadata": {},
   "source": [
    "**<font color='green'>Put your name in the next cell and run it (*Shift+Enter*):</font>**"
   ]
  },
  {
   "cell_type": "markdown",
   "metadata": {},
   "source": [
    "## Name: "
   ]
  },
  {
   "cell_type": "markdown",
   "metadata": {},
   "source": [
    "### Assignment:\n",
    "\n",
    "- Excecute the following cells and solve the problems presented\n",
    "- There are two parts:\n",
    "    - Basic\n",
    "    - Challenge (optional)\n",
    "\n",
    "You need to do at least the basic part. If you are looking for more challenges, continue with the next part."
   ]
  },
  {
   "cell_type": "markdown",
   "metadata": {},
   "source": [
    "### Grading:\n",
    "    \n",
    "**<font color='red'>This homework notebook will be graded (evaluated).</font>**\n",
    "\n",
    "### Grading procedure:\n",
    "\n",
    "- Moving the Trello card from Backlog to Doing (or Work in Progress) and then to Done (two steps) = <font color='red'>4 points</font>\n",
    "- Load the homework (your work) = <font color='red'>1 point</font>\n",
    "- For every correct answer = <font color='red'>1 point each</font>\n",
    "\n",
    "You need to move the Trello card two times, load your Jupyter Notebook with the answers, and have only two (of four) correct answers to have the maximun grade (7)\n",
    "\n",
    "### General tips:\n",
    "* Move the Trello card (task) from **Backlog (or To Do)** column to the **Work in progress (or Doing)** column\n",
    "* Download this Jupyter Notebook from Trello into your computer\n",
    "* Complete the Basic and Challenge parts of the homework\n",
    "* Load the Jupyter Notebook with your solution into the Trello card\n",
    "* Move the Trello card to the **Done** column"
   ]
  },
  {
   "cell_type": "markdown",
   "metadata": {},
   "source": [
    "# Basic part"
   ]
  },
  {
   "cell_type": "markdown",
   "metadata": {},
   "source": [
    "## **<font color='red'>[1]</font>** Create your own list with 5 components of a prokaryotic cell. Use the append() method.\n",
    "Include one element at a time and when you complete five elements, print the list.\n",
    "\n",
    "You can find the components of a cell here: [prokaryotic](https://en.wikipedia.org/wiki/Prokaryote)\n",
    "\n",
    " \n",
    "Tips: \n",
    "1. Create an empty list with square brakets \\[ \\]\n",
    "2. Add elements to the list using the append() method, like this: *my_list.append('new_element')*\n",
    "3. Print the list using the print() function"
   ]
  },
  {
   "cell_type": "code",
   "execution_count": null,
   "metadata": {},
   "outputs": [],
   "source": [
    "# Your code here ...\n"
   ]
  },
  {
   "cell_type": "markdown",
   "metadata": {},
   "source": [
    "## **<font color='red'>[2]</font>** Create a dictionary\n",
    "\n",
    "1. Create a dictionary with the countries as a keys and populations as a values.\n",
    "2. The key: value pairs are:\n",
    "\n",
    "    Chile: 17<br>\n",
    "    USA: 323<br>\n",
    "    Germany: 83<br>\n",
    "    India: 1324<br>\n",
    "    Spain: 45<br>\n",
    "\n",
    "Tips:\n",
    "1. Use the **06-Python-Dictionaries** notebook to see how to create a dictionary"
   ]
  },
  {
   "cell_type": "code",
   "execution_count": null,
   "metadata": {},
   "outputs": [],
   "source": [
    "# Create a new dictionary\n",
    "# Your code here ...\n"
   ]
  },
  {
   "cell_type": "markdown",
   "metadata": {},
   "source": [
    "## **<font color='red'>[3]</font>** Create Booleans and Tuples\n",
    "\n",
    "1. Create a tuple with three elementsof your choice, but this element must be of different type (e.g.: integer, string, list)\n",
    "2. Create a boolean variable with the value *False*\n",
    "\n",
    "\n",
    "Tips:\n",
    "1. Use the **07-Python-Tuples** and **09-Python-Booleans** notebooks to see how to create a tuples and booleans respectively."
   ]
  },
  {
   "cell_type": "code",
   "execution_count": null,
   "metadata": {},
   "outputs": [],
   "source": [
    "# Create a tuple\n",
    "# Your code here...\n"
   ]
  },
  {
   "cell_type": "code",
   "execution_count": null,
   "metadata": {},
   "outputs": [],
   "source": [
    "# Create a boolean\n",
    "# Your code here...\n"
   ]
  },
  {
   "cell_type": "markdown",
   "metadata": {},
   "source": [
    "# Challenge part"
   ]
  },
  {
   "cell_type": "markdown",
   "metadata": {},
   "source": [
    "Did you feel it was easy?.<br>Try the next challenge"
   ]
  },
  {
   "cell_type": "markdown",
   "metadata": {},
   "source": [
    "## **<font color='red'>[4]</font>** Working with dictionaries\n",
    "In the next cells we define a new empty dictionary called *eukaryotic*<br>\n",
    "Following in other cell we add two elements to *eukaryotic* dictionay: 'Typical organisms' and 'DNA'<br>\n",
    "You must to add a new element to the dictionary related with the *kigndoms* of *eukaryotics* <br>\n",
    "You can find the components of a cell here: [eukaryotic](https://en.wikipedia.org/wiki/Eukaryote)\n",
    "\n",
    "Your assignment is to add another element ('kingdoms') to the dictionary.\n",
    " \n",
    "Tips: \n",
    "1. Run with *Shift+Enter* the next two cells in order to reate an empty dictionary and add two elements in it.\n",
    "2. Then add a new element in the dictionary with key *\"kingdoms\"* and values with what you investigate in [eukaryotic](https://en.wikipedia.org/wiki/Eukaryote)\n",
    "\n",
    "\n",
    "```python\n",
    "    eukaryotic['name_of_the_key'] = ['element_1', 'element_2', ...]\n",
    "```\n",
    "3. Remember that when we add an element to a dictionary, we uses a key:value pair\n",
    "4. Print the dictionary using the print() function"
   ]
  },
  {
   "cell_type": "code",
   "execution_count": null,
   "metadata": {},
   "outputs": [],
   "source": [
    "# Let's create a new empty dictionary called 'eukaryotic'\n",
    "# Run this cell with Shift+Enter\n",
    "eukaryotic = {}"
   ]
  },
  {
   "cell_type": "code",
   "execution_count": null,
   "metadata": {},
   "outputs": [],
   "source": [
    "# Run this cell with Shift+Enter. We are adding two elements (key: value) to the dictionary 'eukaryotic'\n",
    "\n",
    "eukaryotic['Typical organisms'] = ['protists', 'fungi', 'plants', 'animals']\n",
    "\n",
    "eukaryotic['DNA'] = 'linear chromosomes'\n",
    "\n",
    "print(eukaryotic)"
   ]
  },
  {
   "cell_type": "code",
   "execution_count": null,
   "metadata": {},
   "outputs": [],
   "source": [
    "# Add a new elemente (key, value) to the dictionary\n",
    "# Your code here ...\n"
   ]
  }
 ],
 "metadata": {
  "kernelspec": {
   "display_name": "Python 3",
   "language": "python",
   "name": "python3"
  },
  "language_info": {
   "codemirror_mode": {
    "name": "ipython",
    "version": 3
   },
   "file_extension": ".py",
   "mimetype": "text/x-python",
   "name": "python",
   "nbconvert_exporter": "python",
   "pygments_lexer": "ipython3",
   "version": "3.6.4"
  }
 },
 "nbformat": 4,
 "nbformat_minor": 2
}
