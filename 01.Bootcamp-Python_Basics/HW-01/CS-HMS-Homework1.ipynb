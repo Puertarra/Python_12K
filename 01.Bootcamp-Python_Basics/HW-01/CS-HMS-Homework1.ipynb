{
 "cells": [
  {
   "cell_type": "markdown",
   "metadata": {},
   "source": [
    "# Homework # 1"
   ]
  },
  {
   "cell_type": "markdown",
   "metadata": {},
   "source": [
    "### Assignment:\n",
    "\n",
    "- Excecute the following cells and solve the problems presented\n",
    "- There are two parts:\n",
    "    - Basic\n",
    "    - Challenge\n",
    "\n",
    "You need to do at least the basic part. If you are looking for more challenges, continue with the next part."
   ]
  },
  {
   "cell_type": "markdown",
   "metadata": {},
   "source": [
    "### Grading:\n",
    "    \n",
    "This homework notebook will be graded (evaluated).\n",
    "We will be grading the following:\n",
    "    - Complete the Basic par of the homework\n",
    "    - Load the notebook (this notebook) into Trello and move the Trello card to the **Done** column"
   ]
  },
  {
   "cell_type": "markdown",
   "metadata": {},
   "source": [
    "## Basic part"
   ]
  },
  {
   "cell_type": "markdown",
   "metadata": {},
   "source": [
    "**<font color='red'>[1]</font>** Create five variables in a new cell below this one. The variables must be of the following types:\n",
    "*    integer (e.g.: 4)\n",
    "*    float (e.g.: 4.0)\n",
    "*    string (e.g.: \"hola\")\n",
    "*    boolean (e.g.: True)\n",
    "\n",
    "Tips: \n",
    "1. You need to insert a new cell and create the five viariables in code mode. \n",
    "2. Be careful with name of the variables. \n",
    "3. Remember that the name are lowercase.\n",
    "4. If you need to know what **e.g.** means, look [here](https://dictionary.cambridge.org/es/diccionario/ingles/eg)"
   ]
  },
  {
   "cell_type": "code",
   "execution_count": null,
   "metadata": {},
   "outputs": [],
   "source": [
    "# Your code here ...\n"
   ]
  },
  {
   "cell_type": "markdown",
   "metadata": {},
   "source": [
    "**<font color='red'>[2]</font>** Create a new cell below this one. Put it in markdown mode and Write a phrase in English in which you indicate your first impressions of Python and one difference with Scratch.\n",
    "\n",
    "Tips:\n",
    "\n",
    "1. To put the cell in markdown mode press &lt;ESC&gt; &lt;M&gt;\n",
    "2. Use title structures (e.g.: #, ## or ###)\n",
    "3. Use normal text, bold text (like **this**) and italic text for emphasis (like *this*)"
   ]
  },
  {
   "cell_type": "markdown",
   "metadata": {},
   "source": [
    "**<font color='red'>[3]</font>** Print the variables created in the part <font color='red'>[1]</font>. Use the next cell to print. The result must looks like this:\n",
    "\n",
    "This is an integer variable and the value is: 18\n",
    "\n",
    "Tips:\n",
    "1. Remenber that the function **type()** returns the object type.\n",
    "2. One print sentence per cell, so insert many cells a needed.\n",
    "3. Use the **print()** function to print. Follow the next sentence as an example:\n",
    "\n",
    "<br>\n",
    ">a = 18 <br>\n",
    ">print ('This is a variable type {}, and its value is{}'.format(type(a), a))"
   ]
  },
  {
   "cell_type": "markdown",
   "metadata": {},
   "source": [
    "## Challenge part"
   ]
  },
  {
   "cell_type": "markdown",
   "metadata": {},
   "source": [
    "Did you feel it was easy?.<br>Try the next challenge"
   ]
  },
  {
   "cell_type": "markdown",
   "metadata": {},
   "source": [
    "**<font color='red'>[4]</font>** The **for** loops are similar to the **repeat** block in Scratch.<br>\n",
    "The syntax is as follows:"
   ]
  },
  {
   "cell_type": "code",
   "execution_count": null,
   "metadata": {},
   "outputs": [],
   "source": [
    "for imprime in range(0, 10):\n",
    "    print(imprime)"
   ]
  },
  {
   "cell_type": "markdown",
   "metadata": {},
   "source": [
    "Where, the **range()** function create an iterator from 0 to 9.\n",
    "You need to create a **5 times table** (translation: **La tabla del cinco**)\n",
    "\n",
    "Tips:\n",
    "1. Notice that every thing inside the for loop need to be indented four(4) spaces to the right.\n",
    "2. Use the nex print sentence <br>\n",
    ">print('5 x {} = {}'.format(i, (i*5)))"
   ]
  },
  {
   "cell_type": "code",
   "execution_count": null,
   "metadata": {},
   "outputs": [],
   "source": [
    "# Your code here ...\n"
   ]
  },
  {
   "cell_type": "code",
   "execution_count": null,
   "metadata": {},
   "outputs": [],
   "source": []
  }
 ],
 "metadata": {
  "kernelspec": {
   "display_name": "Python 3",
   "language": "python",
   "name": "python3"
  },
  "language_info": {
   "codemirror_mode": {
    "name": "ipython",
    "version": 3
   },
   "file_extension": ".py",
   "mimetype": "text/x-python",
   "name": "python",
   "nbconvert_exporter": "python",
   "pygments_lexer": "ipython3",
   "version": "3.6.4"
  }
 },
 "nbformat": 4,
 "nbformat_minor": 2
}
