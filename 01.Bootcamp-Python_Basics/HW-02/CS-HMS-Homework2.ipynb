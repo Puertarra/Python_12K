{
 "cells": [
  {
   "cell_type": "markdown",
   "metadata": {},
   "source": [
    "# Homework #2"
   ]
  },
  {
   "cell_type": "markdown",
   "metadata": {},
   "source": [
    "### Assignment:\n",
    "\n",
    "- Excecute the following cells and solve the problems presented\n",
    "- There are two parts:\n",
    "    - Basic\n",
    "    - Challenge (optional)\n",
    "\n",
    "You need to do at least the basic part. If you are looking for more challenges, continue with the next part."
   ]
  },
  {
   "cell_type": "markdown",
   "metadata": {},
   "source": [
    "### Grading:\n",
    "    \n",
    "**<font color='red'>This homework notebook will be graded (evaluated).</font>**\n",
    "\n",
    "We will be grading the following:\n",
    "* Download this notebook from Trello into your computer\n",
    "* Move the Trello card to the **Work in progress (or Doing)** column\n",
    "* Complete the Basic and Challenge parts of the homework\n",
    "* Load the notebook with your solution into Trello and move the Trello card to the **Done** column"
   ]
  },
  {
   "cell_type": "markdown",
   "metadata": {},
   "source": [
    "# Basic part"
   ]
  },
  {
   "cell_type": "markdown",
   "metadata": {},
   "source": [
    "## **<font color='red'>[1]</font>** Print the following sentence using the variables showed in the next cell:\n",
    "\n",
    "```python\n",
    "Somos Highlanders y nos caracterizamos por 3 cosas:\n",
    "\n",
    "    Autónomos\n",
    "    \n",
    "    Responsables\n",
    "    \n",
    "    Respetuosos\n",
    "```\n",
    "\n",
    " \n",
    "Tips: \n",
    "1. Use the four variables (num, var1, var2 and var3)\n",
    "2. Use the **format()** and **print()** functions\n",
    "3. Print exactly as indicated, considering the tabs (**\\t**) and new lines (**\\n**)\n",
    "4. If you need more than one new line, you can use **\\n\\n**, or **\\n\\n\\n**, and so on"
   ]
  },
  {
   "cell_type": "code",
   "execution_count": null,
   "metadata": {},
   "outputs": [],
   "source": [
    "num = 3\n",
    "var1 = 'Autónomos'\n",
    "var2 = 'Respetuosos'\n",
    "var3 = 'Respatuosos'\n",
    "\n",
    "# Your code here ...\n",
    "print('Somos Highlanders y nos caracterizamos por {} cosas:\\n\\n\\t{}\\n\\n\\t{}\\n\\n\\t{}'\\\n",
    "      .format(num,var1, var2, var3))"
   ]
  },
  {
   "cell_type": "markdown",
   "metadata": {},
   "source": [
    "## **<font color='red'>[2]</font>** In the next cell there is a string variable. Do the follow:\n",
    "\n",
    "1. Using string indexing extract the third letter 'a'\n",
    "2. Using string slicing extract the last 10 letters \n",
    "3. Using string slicing extract the word 'Highlander'\n",
    "\n",
    "\n",
    "Tips:\n",
    "\n",
    "* Use the **04-Python-Strings** notebook to see how to index and slice a string\n",
    "* Use the **print()** function to print your results, e.g.:\n",
    "```python\n",
    "print(my_string[10])\n",
    "```\n"
   ]
  },
  {
   "cell_type": "code",
   "execution_count": null,
   "metadata": {},
   "outputs": [],
   "source": [
    "my_string = 'Soy un Highlander y me caracterizo por ser autónomo en mis decisiones.'\n",
    "\n",
    "# Your code here...\n",
    "print(my_string[7:17])\n",
    "print('La palabra es: {}'.format(my_string[7:17]))\n",
    "\n"
   ]
  },
  {
   "cell_type": "markdown",
   "metadata": {},
   "source": [
    "## **<font color='red'>[3]</font>** Working with lists\n",
    "\n",
    "1. In the next cell create an empty list called 'my_list'\n",
    "2. In a new cell below the previous one, add five classmate names using the **append()** method\n",
    "3. In an other new cell extract the last element of the list using the **pop()** method, assign it to a variable and finally print the variable\n",
    "\n",
    "\n",
    "\n",
    "Tips:\n",
    "1. Use the **04-Python-Lists** notebook to see how to index and slice a string \n",
    "2. Use one cell to create the list and different ones to add the names\n"
   ]
  },
  {
   "cell_type": "code",
   "execution_count": null,
   "metadata": {},
   "outputs": [],
   "source": [
    "# Create the empty list here\n",
    "black_dog = []"
   ]
  },
  {
   "cell_type": "code",
   "execution_count": null,
   "metadata": {},
   "outputs": [],
   "source": [
    "type(black_dog)"
   ]
  },
  {
   "cell_type": "code",
   "execution_count": null,
   "metadata": {},
   "outputs": [],
   "source": [
    "# Add elements to the list here\n",
    "black_dog.append(13)"
   ]
  },
  {
   "cell_type": "code",
   "execution_count": null,
   "metadata": {},
   "outputs": [],
   "source": [
    "black_dog"
   ]
  },
  {
   "cell_type": "code",
   "execution_count": null,
   "metadata": {},
   "outputs": [],
   "source": [
    "# Extract the last element from the list and print it here\n",
    "variable_pop = black_dog.pop()"
   ]
  },
  {
   "cell_type": "code",
   "execution_count": null,
   "metadata": {},
   "outputs": [],
   "source": [
    "print(variable_pop)"
   ]
  },
  {
   "cell_type": "markdown",
   "metadata": {},
   "source": [
    "# Challenge part"
   ]
  },
  {
   "cell_type": "markdown",
   "metadata": {},
   "source": [
    "Did you feel it was easy?.<br>Try the next challenge"
   ]
  },
  {
   "cell_type": "markdown",
   "metadata": {},
   "source": [
    "## **<font color='red'>[4]</font>** The **for** loops are similar to the **repeat** block in Scratch.<br>\n",
    "The syntax is as follows:"
   ]
  },
  {
   "cell_type": "code",
   "execution_count": null,
   "metadata": {},
   "outputs": [],
   "source": [
    "other_list = ['1', '2', '3', 'Highlands', 'Computer Science']\n",
    "for i in other_list:\n",
    "    print(i)"
   ]
  },
  {
   "cell_type": "markdown",
   "metadata": {},
   "source": [
    "As you can see, the **for** loop takes the list '*other_list*' and extract one by one its elements and asigns it to the *i* variable.\n",
    "\n",
    "Inside the loop, every value assigned to the variable *i* is printed"
   ]
  },
  {
   "cell_type": "markdown",
   "metadata": {},
   "source": [
    "Do the follow:\n",
    "1. Print the elements of the list *my_list* created in the step number <font color='red'>[3]</font>\n",
    "\n",
    "Tips:\n",
    "1. Use the sintax showed in the previous cell"
   ]
  },
  {
   "cell_type": "code",
   "execution_count": null,
   "metadata": {},
   "outputs": [],
   "source": [
    "# You code here\n"
   ]
  }
 ],
 "metadata": {
  "kernelspec": {
   "display_name": "Python 3",
   "language": "python",
   "name": "python3"
  },
  "language_info": {
   "codemirror_mode": {
    "name": "ipython",
    "version": 3
   },
   "file_extension": ".py",
   "mimetype": "text/x-python",
   "name": "python",
   "nbconvert_exporter": "python",
   "pygments_lexer": "ipython3",
   "version": "3.6.4"
  }
 },
 "nbformat": 4,
 "nbformat_minor": 2
}
