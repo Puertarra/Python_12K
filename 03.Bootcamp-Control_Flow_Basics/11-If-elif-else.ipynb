{
 "cells": [
  {
   "cell_type": "markdown",
   "metadata": {
    "collapsed": true
   },
   "source": [
    "# 11-if , elif , and else statements\n",
    "\n",
    "Hello Highlanders! \n",
    "\n",
    "Sometimes we need to take desitions in our code. We need to perform some actions or anothers using the **if**, **elif**, and **else** statements to control for these cases. Give it a try !!!"
   ]
  },
  {
   "cell_type": "markdown",
   "metadata": {},
   "source": [
    "## The if Statement\n",
    "The simpliest format for an if statement is:\n",
    "```Python\n",
    "    if some_condition:\n",
    "        # Do Something\n",
    "```"
   ]
  },
  {
   "cell_type": "code",
   "execution_count": null,
   "metadata": {},
   "outputs": [],
   "source": [
    "if 1 < 2:\n",
    "    print('Uno es menor que dos')"
   ]
  },
  {
   "cell_type": "markdown",
   "metadata": {},
   "source": [
    "<font color=\"gree\">Pyhtonist:</font> Always put spaces surrounding an operator."
   ]
  },
  {
   "cell_type": "code",
   "execution_count": null,
   "metadata": {},
   "outputs": [],
   "source": [
    "if 1 > 2:\n",
    "    print(\"Uno es más grande que dos?\")"
   ]
  },
  {
   "cell_type": "markdown",
   "metadata": {},
   "source": [
    "Notice what happens, the indented block of code only runs when the if condition is True!"
   ]
  },
  {
   "cell_type": "code",
   "execution_count": null,
   "metadata": {},
   "outputs": [],
   "source": [
    "# So we can use a Boolean variable \n",
    "if True:\n",
    "    print(\"La sentancia 'if' se evaluó afirmativamente\")"
   ]
  },
  {
   "cell_type": "markdown",
   "metadata": {},
   "source": [
    "## if else Statement\n",
    "\n",
    "Let's now add in an alternate action in case the **if** is not True using the **else** statement.\n",
    "\n",
    "Notice the format and how the code blocks line up, this is crucial in Python! \n",
    "\n",
    "**Code indentation** let's Python know what blocks and statements correspond together."
   ]
  },
  {
   "cell_type": "code",
   "execution_count": null,
   "metadata": {},
   "outputs": [],
   "source": [
    "if 1 == 1:\n",
    "    print(\"Uno es igual a uno, obvio !!\")\n",
    "else:\n",
    "    print(\"La comparación no es correcta\")"
   ]
  },
  {
   "cell_type": "code",
   "execution_count": null,
   "metadata": {},
   "outputs": [],
   "source": [
    "if 1 == 2:\n",
    "    print(\"Uno es igual a uno, obvio !!\")\n",
    "else:\n",
    "    print(\"La comparación no es Verdadera (True)\")"
   ]
  },
  {
   "cell_type": "markdown",
   "metadata": {},
   "source": [
    "## if, elif, else \n",
    "\n",
    "Now let's imagine we have multiple conditions to check before the final **else** statement, this is where we can use the **elif** keyword to check for as many individual conditions as necessary:"
   ]
  },
  {
   "cell_type": "code",
   "execution_count": null,
   "metadata": {},
   "outputs": [],
   "source": [
    "if 2 == 0:\n",
    "    print('La primera comparación es Verdadera (True)')\n",
    "elif 2 == 1:\n",
    "    print(\"La segunda comparación es Verdadera (True)\")\n",
    "elif 2 == 2:\n",
    "    print(\"La tercera comparación es Verdadera (True)\")\n",
    "else:\n",
    "    print(\"Ninguna de las comparaciones anteriores es Verdadera (True)\")"
   ]
  },
  {
   "cell_type": "code",
   "execution_count": null,
   "metadata": {},
   "outputs": [],
   "source": [
    "if 2 == 0:\n",
    "    print('La primera comparación es Verdadera (True)')\n",
    "elif 2 == 1:\n",
    "    print(\"La segunda comparación es Verdadera (True)\")\n",
    "elif 2 == 100:\n",
    "    print(\"La tercera comparación es Verdadera (True)\")\n",
    "else:\n",
    "    print(\"Ninguna de las comparaciones anteriores es Verdadera (True)\")"
   ]
  },
  {
   "cell_type": "markdown",
   "metadata": {},
   "source": [
    "Let's see what happens if we had multiple True conditions:"
   ]
  },
  {
   "cell_type": "code",
   "execution_count": null,
   "metadata": {},
   "outputs": [],
   "source": [
    "if 2 == 2:\n",
    "    print('La primera comparación es Verdadera (True)')\n",
    "elif 2 == 2:\n",
    "    print(\"La segunda comparación es Verdadera (True)\")\n",
    "elif 2 == 2:\n",
    "    print(\"La tercera comparación es Verdadera (True)\")\n",
    "else:\n",
    "    print(\"Ninguna de las comparaciones anteriores es Verdadera (True)\")"
   ]
  },
  {
   "cell_type": "markdown",
   "metadata": {},
   "source": [
    "Notice how only the first True condition's code block will be executed, keep this in mind when writing your scripts!"
   ]
  },
  {
   "cell_type": "markdown",
   "metadata": {},
   "source": [
    "It is important to keep a good understanding of how indentation works in Python to maintain the structure and order of your code. We will touch on this topic again when we start building out functions!"
   ]
  },
  {
   "cell_type": "markdown",
   "metadata": {},
   "source": [
    "## Let's see more about indentation\n",
    "### Some rules\n",
    "1. Every indentation level use 4 spaces\n",
    "2. Do not use a tab for indentatios\n",
    "3. NEVER use a combination of tabs and spaces for identation"
   ]
  },
  {
   "cell_type": "code",
   "execution_count": null,
   "metadata": {},
   "outputs": [],
   "source": [
    "if True:\n",
    "    print(\"Esta impresión está dentro del bloque 'if'\")\n",
    "    print(\"Esta impresión está dentro del bloque 'if'\")\n",
    "    print(\"Esta impresión está dentro del bloque 'if'\")\n",
    "print(\"Esta impresión está fuera del bloque 'if'\")"
   ]
  },
  {
   "cell_type": "code",
   "execution_count": null,
   "metadata": {},
   "outputs": [],
   "source": [
    "# Let's see what happens when we change the condition to False\n",
    "if False:\n",
    "    print(\"Esta impresión está dentro del bloque 'if'\")\n",
    "    print(\"Esta impresión está dentro del bloque 'if'\")\n",
    "    print(\"Esta impresión está dentro del bloque 'if'\")\n",
    "print(\"Esta impresión está fuera del bloque 'if'\")"
   ]
  },
  {
   "cell_type": "markdown",
   "metadata": {},
   "source": [
    "## Final Example\n",
    "\n",
    "Let's see one final example."
   ]
  },
  {
   "cell_type": "code",
   "execution_count": null,
   "metadata": {},
   "outputs": [],
   "source": [
    "agent_code = 231912\n",
    "access = False"
   ]
  },
  {
   "cell_type": "code",
   "execution_count": null,
   "metadata": {},
   "outputs": [],
   "source": [
    "if agent_code == 12345:\n",
    "    print('Code Reset')\n",
    "    print(\"Please call a supervisor\")\n",
    "elif agent_code == 231912:\n",
    "    print('Welcome Agent')\n",
    "    print('Setting Your Access to True')\n",
    "    access = True\n",
    "else:\n",
    "    print(\"Sorry Wrong Code Supplied\")\n",
    "    \n"
   ]
  },
  {
   "cell_type": "code",
   "execution_count": null,
   "metadata": {},
   "outputs": [],
   "source": [
    "# Now we can actually start another set of control flow logic here\n",
    "\n",
    "if access == True:\n",
    "    print('Access Granted')\n",
    "else:\n",
    "    print('Access Denied')"
   ]
  },
  {
   "cell_type": "markdown",
   "metadata": {},
   "source": [
    "Take a look at the last set of if/else block,since the variable **access** itself is a boolean, we also could have written it like this:"
   ]
  },
  {
   "cell_type": "code",
   "execution_count": null,
   "metadata": {},
   "outputs": [],
   "source": [
    "if access:\n",
    "    print(\"Access Granted\")\n",
    "else:\n",
    "    print(\"Access Denied\")"
   ]
  },
  {
   "cell_type": "markdown",
   "metadata": {},
   "source": [
    "Writing code like we just did in the above cell is cleaner, and you can name your variables differently to also make it even more legible (e.g. rename **access** to **access_granted** so you have **if access_granted** )"
   ]
  },
  {
   "cell_type": "markdown",
   "metadata": {},
   "source": [
    "### <font color='green'>Task 1:</font> \n",
    "### Guess the number game\n",
    "\n",
    "Game: The computer is going to generate a random number; you will try to guess it !!!\n",
    "\n",
    "Steps:\n",
    "1. Enter a number from the keyboard using the input function and store it in a variable called 'my_guess_number'\n",
    "2. Generate a random number and store it in a varuable called 'secret_number'\n",
    "3. Compare the numbers and print a message: if you guessed it print \"Bingo, you win!!\" and if you don't print \"Try again\"\n"
   ]
  },
  {
   "cell_type": "code",
   "execution_count": null,
   "metadata": {},
   "outputs": [],
   "source": [
    "# First we are goint to import a library called 'numpy'\n",
    "# We will talk about libraries a lot very soon\n",
    "# For now run this cell\n",
    "import numpy as np"
   ]
  },
  {
   "cell_type": "code",
   "execution_count": null,
   "metadata": {},
   "outputs": [],
   "source": [
    "my_guess_number = input(\"Enter a number: \")\n",
    "secret_number = np.random.randint(0,9)\n",
    "# Your code here\n"
   ]
  },
  {
   "cell_type": "markdown",
   "metadata": {},
   "source": [
    "### <font color='green'>Task 2: Super challenging</font> \n",
    "### Leap-year \n",
    "A leap year (also known as an intercalary year or bissextile year) is a calendar year containing one additional day.\n",
    "For example, in the Gregorian calendar, each leap year has 366 days instead of the usual 365, by extending February to 29 days rather than the common 28. See [Leap-year](https://en.wikipedia.org/wiki/Leap_year) in Wikipedia for more details.\n",
    "\n",
    "**Algorithm to calculate if a year is a leap-year**\n",
    "\n",
    "Check the following conditions in the order presented:\n",
    "\n",
    "**Condition_1:** if the year is exactly divisible by 400 then it is a leap-year.<br>\n",
    "**Condition_2:** if the year is divisible by 100 then it is not a leap-year.<br>\n",
    "**Condition_3:** if the year is exactly divisible by 4 then it is a leap-year.<br>\n",
    "**Condition_4:** none of the previous conditions, then it is not a leap-year. \n",
    "\n",
    "For example, the years 1700, 1800, and 1900 were not leap years, but the years 1600 and 2000 were.\n",
    "\n",
    "Challenge: determine if a specific year is leap or not.\n",
    "\n",
    "Steps:\n",
    "1. Enter a year from the keyboard using the input function and store it in a variable called 'input_year'\n",
    "2. Create a code that determine if 'input_year' is or is not leap\n",
    "3. Print a message indicating that input_year 'is a leap-year' or 'is not a leap-year'\n",
    "\n",
    "Hits:\n",
    "\n",
    "1. Use the input functions to enter the year\n",
    "2. Use the % operator to make the divisions\n",
    "3. Use the following structure\n",
    "```Python\n",
    "    if condition_1:\n",
    "        print('Leap year')\n",
    "    elif condition_2:\n",
    "        print('Not a Leap year')\n",
    "    elif condition_3:\n",
    "        print('Leap year')\n",
    "    else:\n",
    "        print('Not a Leap year')\n",
    "```\n"
   ]
  },
  {
   "cell_type": "code",
   "execution_count": null,
   "metadata": {},
   "outputs": [],
   "source": [
    "# Hit 1: Remember the % operator\n",
    "2001 % 4"
   ]
  },
  {
   "cell_type": "code",
   "execution_count": null,
   "metadata": {},
   "outputs": [],
   "source": [
    "# Your code here\n",
    "\n",
    "\n"
   ]
  },
  {
   "cell_type": "code",
   "execution_count": null,
   "metadata": {},
   "outputs": [],
   "source": []
  }
 ],
 "metadata": {
  "kernelspec": {
   "display_name": "Python 3",
   "language": "python",
   "name": "python3"
  },
  "language_info": {
   "codemirror_mode": {
    "name": "ipython",
    "version": 3
   },
   "file_extension": ".py",
   "mimetype": "text/x-python",
   "name": "python",
   "nbconvert_exporter": "python",
   "pygments_lexer": "ipython3",
   "version": "3.6.4"
  }
 },
 "nbformat": 4,
 "nbformat_minor": 2
}
