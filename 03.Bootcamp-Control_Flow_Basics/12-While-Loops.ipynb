{
 "cells": [
  {
   "cell_type": "markdown",
   "metadata": {
    "collapsed": true
   },
   "source": [
    "# 12-While Loops\n",
    "\n",
    "Now that we understand control flow with if, elif,and else statements let's learn about loops. The first loop we will learn about is the **while loop**.\n",
    "\n",
    "A while loop will repeatedly execute a single statement or group of statements as long as the condition being checked is true. The reason it is called a 'loop' is because the code statements are looped through over and over again until the condition is no longer met.\n",
    "\n",
    "**while loop** is quiet similar to the **for ever** (**por siempre**) block in Scratch.\n",
    "\n",
    "Code indentation becomes very important as we begin to work with loops and control flow. Let's work through some examples recruit!"
   ]
  },
  {
   "cell_type": "code",
   "execution_count": null,
   "metadata": {},
   "outputs": [],
   "source": [
    "# Start by setting variable x to 0\n",
    "x = 0\n",
    "\n",
    "while x < 3:\n",
    "    print('x is currently = {}'.format(x))\n",
    "    print(\"Adding 1 to x\")\n",
    "    x = x + 1 #alternatively you could write x += 1"
   ]
  },
  {
   "cell_type": "markdown",
   "metadata": {},
   "source": [
    "### Note:\n",
    "\n",
    "```Python\n",
    "    x = x + 1\n",
    "```\n",
    "Could be written as\n",
    "```Python\n",
    "    x += 1\n",
    "```\n",
    "This is a Pytonist way !!!"
   ]
  },
  {
   "cell_type": "markdown",
   "metadata": {},
   "source": [
    "____\n",
    "### <font color='red'>Caution Note!!</font>\n",
    "Be careful with while loops! There is a potential to write a condition that always remains True, meaning you have an infinite running while loop. If this happens to you, try using Ctrl+C to kill the loop. Often in a notebook setting that won't work, so you can try to restart the kernel. If that still doesn't work, use Ctrl+C at the command line running the notebook. Still not working recruit? Oh boy, you're in trouble now! Try restarting your computer :)\n",
    "____\n",
    "Let's move on with some more examples. First let's show you how to accept an input from a user:"
   ]
  },
  {
   "cell_type": "code",
   "execution_count": null,
   "metadata": {},
   "outputs": [],
   "source": [
    "# Run this cell only once\n",
    "# If you run it again without providing an\n",
    "# input your cell will get stuck with In[*] \n",
    "# To fix this, restart the kernel.\n",
    "\n",
    "# Okay, now for the code\n",
    "\n",
    "saved_input = input(\"Please input a number: \")"
   ]
  },
  {
   "cell_type": "code",
   "execution_count": null,
   "metadata": {},
   "outputs": [],
   "source": [
    "saved_input"
   ]
  },
  {
   "cell_type": "markdown",
   "metadata": {},
   "source": [
    "<font color = 'red'>Notice its a string!</font> You can always cast it with **int()** or **float()** to get a int or float to work with.\n",
    "\n",
    "Let's see how we could use this:"
   ]
  },
  {
   "cell_type": "code",
   "execution_count": null,
   "metadata": {},
   "outputs": [],
   "source": [
    "print(\"Welcome Hacker\")\n",
    "# start with some default password (needs to be defined before while loop starts)\n",
    "password = 0\n",
    "\n",
    "while password != 123:\n",
    "    password = int(input(\"Please provide your password: \"))\n",
    "\n",
    "# This won't run until the while loop is \n",
    "# done because of the indentation\n",
    "print(\"Correct password!\")"
   ]
  },
  {
   "cell_type": "code",
   "execution_count": null,
   "metadata": {},
   "outputs": [],
   "source": [
    "print(\"Welcome Hacker\")\n",
    "# start with some default passcode (needs to be defined before while loop starts)\n",
    "password = 0\n",
    "\n",
    "while password != 123:\n",
    "    password = int(input(\"Please provide your password: \"))\n",
    "\n",
    "    #Nested control flow logic\n",
    "    if passcode != 123:\n",
    "        print(\"Sorry wrong password provided\")\n",
    "        print(\"Try Again ...\\n\")\n",
    "    \n",
    "# This won't run until the while loop is \n",
    "# done because of the indentation\n",
    "print(\"Correct password!\")"
   ]
  },
  {
   "cell_type": "markdown",
   "metadata": {},
   "source": [
    "# Breaking the flow"
   ]
  },
  {
   "cell_type": "markdown",
   "metadata": {},
   "source": [
    "\n",
    "The **break** keyword allows you to \"break\" out of the loop that contains the break keyword. For example"
   ]
  },
  {
   "cell_type": "code",
   "execution_count": null,
   "metadata": {},
   "outputs": [],
   "source": [
    "x = 0\n",
    "\n",
    "while x < 10:\n",
    "    print(x)\n",
    "    print('add one to x')\n",
    "    x += 1\n",
    "    \n",
    "    if x == 3:\n",
    "        # This will cause to break out of the top loop \n",
    "        # Note that if statements don't count as loops\n",
    "        break"
   ]
  },
  {
   "cell_type": "markdown",
   "metadata": {},
   "source": [
    "### <font color='green'>Task 1:</font> \n",
    "### Counting numbers\n",
    "\n",
    "Assignment: \n",
    "\n",
    "Create a program that counts from 1 to 100 using while loops. Print every number in a separate line.\n",
    "\n",
    "Steps:\n",
    "1. Create and initialize a variable to count\n",
    "2. Create the while loop\n",
    "3. Print the variable\n",
    "4. Increment the variable using variable += 1"
   ]
  },
  {
   "cell_type": "code",
   "execution_count": null,
   "metadata": {
    "collapsed": true
   },
   "outputs": [],
   "source": [
    "# Your code here ...\n"
   ]
  },
  {
   "cell_type": "markdown",
   "metadata": {},
   "source": [
    "### <font color='green'>Task 2: Challenging</font> \n",
    "### Count numbers, but stopping when the sum of counted numbers be > 50\n",
    "\n",
    "Assignment:\n",
    "\n",
    "Create a program that counts from 1 to 100 using while loops. <br>\n",
    "Print every number in a separate line.<br>\n",
    "Add the counted number in another variable and stop counting when the sum be greather than 50.\n",
    "    \n",
    "\n",
    "Steps:\n",
    "1. Create ans initialize a variable to count\n",
    "2. Create and initialize a variable to sum\n",
    "3. Create the while loop\n",
    "4. Print the count variable\n",
    "5. Add the count vartiable to the sum variable\n",
    "6. Compare if the sum variable is greather than 50. If yes, break the loop\n",
    "7. Increment the variable using variable += 1"
   ]
  },
  {
   "cell_type": "code",
   "execution_count": null,
   "metadata": {
    "collapsed": true
   },
   "outputs": [],
   "source": [
    "# Your code here ..."
   ]
  },
  {
   "cell_type": "markdown",
   "metadata": {},
   "source": [
    "Excellent work !!"
   ]
  }
 ],
 "metadata": {
  "kernelspec": {
   "display_name": "Python 3",
   "language": "python",
   "name": "python3"
  },
  "language_info": {
   "codemirror_mode": {
    "name": "ipython",
    "version": 3
   },
   "file_extension": ".py",
   "mimetype": "text/x-python",
   "name": "python",
   "nbconvert_exporter": "python",
   "pygments_lexer": "ipython3",
   "version": "3.6.2"
  }
 },
 "nbformat": 4,
 "nbformat_minor": 2
}
