{
 "cells": [
  {
   "cell_type": "markdown",
   "metadata": {},
   "source": [
    "# 002-Exam-two \n",
    "\n",
    "Hello Highlanders. Here you have the 001-Exam-two. This is not a graded exam, but try to do all the challenges.\n",
    "Good luck !!\n",
    "_______"
   ]
  },
  {
   "cell_type": "markdown",
   "metadata": {},
   "source": [
    "## Name: <font color='green'> ...... put your name here ...... </font> \n",
    "\n"
   ]
  },
  {
   "cell_type": "markdown",
   "metadata": {
    "collapsed": true
   },
   "source": [
    "## <font color='green'>Task 1: (Challenging)</font> \n",
    "\n",
    "Use a for loop and indexing to print out only the words that start with an **p** in this sentence:  \n",
    "\n",
    "    \"Saber programar en Python nos enseña a pensar.\"\n",
    "\n",
    "Tips:\n",
    "1. Use the .split() method to divide the sentence into single words\n",
    "2. Use the .lower() method to convert all letters to lower case. Remember thar **p** is nor equal to **P**\n",
    "3. Use a for loop to iterate over the words in the string **mystring**"
   ]
  },
  {
   "cell_type": "code",
   "execution_count": null,
   "metadata": {},
   "outputs": [],
   "source": [
    "mystring = \"Saber programar en Python nos enseña a pensar.\""
   ]
  },
  {
   "cell_type": "code",
   "execution_count": null,
   "metadata": {},
   "outputs": [],
   "source": [
    "mystring.split()"
   ]
  },
  {
   "cell_type": "code",
   "execution_count": null,
   "metadata": {},
   "outputs": [],
   "source": [
    "# Your code here ...\n"
   ]
  },
  {
   "cell_type": "markdown",
   "metadata": {},
   "source": [
    "### <font color='green'>Answer:</font> \n",
    "programar<br>\n",
    "Python<br>\n",
    "pensar"
   ]
  },
  {
   "cell_type": "markdown",
   "metadata": {},
   "source": [
    "## <font color='green'>Task 2: (Challenging)</font> \n",
    "\n",
    "Using the same string as previously used (**mystring**):\n",
    "\n",
    "\"Saber programar en Python nos enseña a pensar.\"\n",
    "\n",
    "Use a for loop to only print out the words with an even number of characters/letters.\n",
    "\n",
    "Tip2: \n",
    "1. Use the .split() method to divide the sentence into single words\n",
    "2. To get the leng of a word you can use the **len(my_word)** method.\n",
    "```python\n",
    "    len(my_variable_here)\n",
    "```\n",
    "3. Remember the use of the **%** operator. It returns the module of a division\n",
    "```python\n",
    "    if len(my_variable_here) % 2 == 0:\n",
    "```\n",
    "4. Print using the **print()** function"
   ]
  },
  {
   "cell_type": "code",
   "execution_count": null,
   "metadata": {},
   "outputs": [],
   "source": [
    "# Your code here ...\n"
   ]
  },
  {
   "cell_type": "markdown",
   "metadata": {},
   "source": [
    "### <font color='green'>Answer:</font> \n",
    "en<br>\n",
    "Python<br>\n",
    "enseña"
   ]
  },
  {
   "cell_type": "markdown",
   "metadata": {},
   "source": [
    "## <font color='green'>Task 3:</font> \n",
    "\n",
    "Use a list comprehension to create a list of every first letter in this string:\n",
    "\n",
    "    mystring = \"Saber programar en Python nos enseña a pensar.\"\n",
    "\n",
    "Tip:\n",
    "1. Use the basic structure of a list comprehension\n",
    "```Python\n",
    "[variable for variable in mystring.split()]\n",
    "```\n",
    "2. Use indexing to get the first letter of each word, like this\n",
    "```Python\n",
    "variable[n] # n is the position of the letter\n",
    "```"
   ]
  },
  {
   "cell_type": "code",
   "execution_count": null,
   "metadata": {},
   "outputs": [],
   "source": [
    "mystring = \"Saber programar en Python nos enseña a pensar.\""
   ]
  },
  {
   "cell_type": "code",
   "execution_count": null,
   "metadata": {},
   "outputs": [],
   "source": [
    "# Your code here ... \n"
   ]
  },
  {
   "cell_type": "markdown",
   "metadata": {},
   "source": [
    "### <font color='green'>Answer:</font> \n",
    "['S', 'p', 'e', 'P', 'n', 'e', 'a', 'p']"
   ]
  },
  {
   "cell_type": "markdown",
   "metadata": {},
   "source": [
    "## <font color='green'>Task 4:</font> \n",
    "\n",
    "Use list comprehension to create a list of all the even numbers from 0 to 10.\n",
    "\n",
    "Tip:\n",
    "1. See and review **15-List-Comprehensions.ipynb**\n",
    "2. Combine an if statement inside the list comprehension."
   ]
  },
  {
   "cell_type": "code",
   "execution_count": null,
   "metadata": {},
   "outputs": [],
   "source": [
    "# Your code here ... \n"
   ]
  },
  {
   "cell_type": "markdown",
   "metadata": {},
   "source": [
    "### <font color='green'>Answer:</font> \n",
    "[0, 2, 4, 6, 8, 10]"
   ]
  },
  {
   "cell_type": "markdown",
   "metadata": {},
   "source": [
    "## <font color='green'>Task 5:</font> \n",
    "\n",
    "Use the range function to create a list of all the even numbers from 0 to 10.\n",
    "\n",
    "Tip:\n",
    "1. See and review **14-Useful_built-in_functions-and-operators**\n",
    "2. Remember that the **range()** function has a step parameter"
   ]
  },
  {
   "cell_type": "code",
   "execution_count": null,
   "metadata": {},
   "outputs": [],
   "source": [
    "# Your code here ...\n"
   ]
  },
  {
   "cell_type": "markdown",
   "metadata": {},
   "source": [
    "### <font color='green'>Answer:</font> \n",
    "[0, 2, 4, 6, 8, 10]"
   ]
  },
  {
   "cell_type": "markdown",
   "metadata": {},
   "source": [
    "## <font color='green'>Task 6:</font> \n",
    "\n",
    "Create a for loop that uses the random library to create a list of 10 random numbers.<br>\n",
    "The random numbers must be in between 10 and 1000.\n",
    "\n",
    "Tip:\n",
    "1. You need to create an empty list to store the numbers\n",
    "```Python\n",
    "mylist = []\n",
    "```\n",
    "2. Remember to add element to the list using the **append()** method\n",
    "```Python\n",
    "mylist.append(something)\n",
    "```\n",
    "2. You need to use the following functions\n",
    "```Python\n",
    "random.randint(10,1000) \n",
    "range(0,10)\n",
    "```"
   ]
  },
  {
   "cell_type": "code",
   "execution_count": null,
   "metadata": {},
   "outputs": [],
   "source": [
    "import random"
   ]
  },
  {
   "cell_type": "code",
   "execution_count": null,
   "metadata": {},
   "outputs": [],
   "source": [
    "# Your code here ...\n"
   ]
  },
  {
   "cell_type": "markdown",
   "metadata": {},
   "source": [
    "## <font color='green'>Task 7:</font> \n",
    "\n",
    "Use list comprehension and the random library to create a list of 100 random numbers<br>\n",
    "The random numbers must be in between 10 and 1000.\n",
    "\n",
    "Tip:\n",
    "1. See and review **15-List-Comprehensions.ipynb**\n",
    "2. Combine an **range( )** function inside the list comprehension."
   ]
  },
  {
   "cell_type": "code",
   "execution_count": null,
   "metadata": {},
   "outputs": [],
   "source": [
    "# Your code here ...\n"
   ]
  },
  {
   "cell_type": "markdown",
   "metadata": {},
   "source": [
    "## <font color='green'>Task 8: Super challenging</font> \n",
    "\n",
    "Create a while loop that asks the user to input an even number. It should keep repeating the request until an even integer is provided. <br>\n",
    "You should only need to expect integers to be passed in, if the user provides a string or something else that can't be transformed to an integer with int(), then the loop should break with an error. \n",
    "\n",
    "Tip:\n",
    "1. Use the following funtion:\n",
    "```Python\n",
    "input( )\n",
    "```\n",
    "2. Use the following **pseudocode** structure\n",
    "```Python\n",
    "result = 3\n",
    "while True:\n",
    "    input a number\n",
    "    \n",
    "    if number % 2 != 0:\n",
    "        continue\n",
    "    else:\n",
    "        print(\"Good job !!\")\n",
    "        break\n",
    "```"
   ]
  },
  {
   "cell_type": "code",
   "execution_count": null,
   "metadata": {},
   "outputs": [],
   "source": [
    "# Your code here ...\n"
   ]
  },
  {
   "cell_type": "markdown",
   "metadata": {
    "collapsed": true
   },
   "source": [
    "Good luck Highlanders!"
   ]
  },
  {
   "cell_type": "code",
   "execution_count": null,
   "metadata": {},
   "outputs": [],
   "source": []
  }
 ],
 "metadata": {
  "kernelspec": {
   "display_name": "Python 3",
   "language": "python",
   "name": "python3"
  },
  "language_info": {
   "codemirror_mode": {
    "name": "ipython",
    "version": 3
   },
   "file_extension": ".py",
   "mimetype": "text/x-python",
   "name": "python",
   "nbconvert_exporter": "python",
   "pygments_lexer": "ipython3",
   "version": "3.6.4"
  }
 },
 "nbformat": 4,
 "nbformat_minor": 2
}
